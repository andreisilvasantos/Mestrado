{
 "cells": [
  {
   "cell_type": "code",
   "execution_count": 2,
   "id": "0c9c8199",
   "metadata": {},
   "outputs": [
    {
     "name": "stdout",
     "output_type": "stream",
     "text": [
      "123\n",
      "-2434\n"
     ]
    }
   ],
   "source": [
    "import math\n",
    "\n",
    "float1 = 123.356\n",
    "float2 = -2434.545\n",
    "\n",
    "print(math.trunc(float1))\n",
    "print(math.trunc(float2))"
   ]
  },
  {
   "cell_type": "code",
   "execution_count": null,
   "id": "f578b6ea",
   "metadata": {},
   "outputs": [],
   "source": []
  }
 ],
 "metadata": {
  "kernelspec": {
   "display_name": "Python 3 (ipykernel)",
   "language": "python",
   "name": "python3"
  },
  "language_info": {
   "codemirror_mode": {
    "name": "ipython",
    "version": 3
   },
   "file_extension": ".py",
   "mimetype": "text/x-python",
   "name": "python",
   "nbconvert_exporter": "python",
   "pygments_lexer": "ipython3",
   "version": "3.10.12"
  }
 },
 "nbformat": 4,
 "nbformat_minor": 5
}
